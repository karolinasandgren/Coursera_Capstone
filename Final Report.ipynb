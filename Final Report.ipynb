{
    "cells": [
        {
            "cell_type": "markdown",
            "metadata": {
                "collapsed": true
            },
            "source": "## Final Report for Coursera's IBM Data Science Professional Certificate Capstone Project"
        },
        {
            "cell_type": "markdown",
            "metadata": {},
            "source": "### Introduction"
        },
        {
            "cell_type": "markdown",
            "metadata": {},
            "source": "Currently, there is an increase in virtual roles due to the pandemic (especially in tech), and some are predicting that the number of virtual roles will stay elevated post-pandemic for several reasons (reduced cost of overhead, added flexibility for employees, to name a couple). Because of this, young professionals may opt for neighborhoods that have venues to work from other than their own home, such as coffee shops, libraries, etc.\n\nFor this project, my target audience is young professionals who are interested in moving to Los Angeles (or already live in Los Angeles, but looking at moving). More specifically, I am targeting young professionals who work virtually, and are looking for neighborhoods that have various options for coffee shops to work from when they may need a change of scenery from working from home."
        },
        {
            "cell_type": "markdown",
            "metadata": {},
            "source": "### Data"
        },
        {
            "cell_type": "markdown",
            "metadata": {},
            "source": "In order to determine neighborhoods in Los Angeles that have \"coffee shops\" as their top venue (by frequency), there are a couple different data sources that I will need to pull from to get neighborhood and venue data.\n\nThe neighborhood data will consist of Los Angeles neighborhoods, and latitude/longitude of each neighborhood. I will extract this data from a wikipedia page (http://wiki.stat.ucla.edu/socr/index.php/SOCR_Data_LA_Neighborhoods_Data) and web scrape the table that contains the needed data by using BeautifulSoup.\n\nOnce I have collected the neighborhood data, I will make calls to the Foursquare API to obtain data for nearby venues in Los Angeles neighborhoods, analyze each neighborhood, and create a list with \"coffee shop\" as the top venues in the given neighborhood.\n\nUsing this data, I will be able to recommend a list of prospective Los Angeles Neighborhoods for young, virtual professionals who are looking for neighborhoods with a variety of coffee shops to work from."
        },
        {
            "cell_type": "markdown",
            "metadata": {},
            "source": "### Methodology"
        },
        {
            "cell_type": "markdown",
            "metadata": {},
            "source": "When obtaining the necessary data for this report, I first needed to find a dataset that provided a list of neighborhoods and corresponding latitude/longitude in Los Angeles. I found a dataset on Wikipedia (http://wiki.stat.ucla.edu/socr/index.php/SOCR_Data_LA_Neighborhoods_Data) that had raw data for each neighborhood in Los Angeles, but also included variables that I would not need for this particular project (such as age, income, etc.). I used BeautifulSoup to web scrape the wiki page and import the table with the raw data into my notebook. Once the table was imported, I renamed the neighborhood column I would use for the rest of the report, and dropped the columns that had data that was not relevant for this project. The remaining table had 3 columns of data that I would need for the project: Neighborhood, Latitude and Longitude. \n\nNext, I used geopy to get the latitude and longitude of Los Angeles. I used this information to create a map of Los Angeles and superimposed markers for each neighborhood using the neighborhood's latitude and longitude values (using the table web scraped from the wikipedia page). \n\nFor the next section, I needed to make calls to the Foursquare API to obtain location data. The first thing to do is define my Foursquare credentials (which I have hidden due to the cell containing sensitive information). After that, I needed to get the venue category for each venue in order to determine what type of venues were located in each neighborhood (for the purpose of this project, I was mostly interested in getting venue type Coffee Shop). After that function was defined, I then defined another function to got a list of all venues and the venue categories for each neighborhood in Los Angeles. I limited the number of venues to a sample size of 100 venues, and a radius of 500 meters from the latitude/longitude of each neighborhood. Using that function, I then created a dataframe with the neighborhood name, latitude/longitude, the venue name, latitude/longitude of the venue, and also the venue category.\n\nOnce the dataframe with the neighborhood and venue information was created, I found the shape of the dataframe. There were 1903 venues for all the neighborhoods. Then, I determined how many venues were found for each unique neighborhood. Some had the limit (100 venues), while other neighborhoods had only 1 venue listed. After that, I analyzed the neighborhoods using one hot encoding to determine venue category for each of the 1903 venues found. I then grouped the neighborhoods and calculated the frequency of each venue category by finding the mean of each venue category per neighborhood. I then created a function to sort venue frequency in descending order to determine the most frequent venue types. Using that function, I created a dataframe to display each neighborhood's top 5 venue categories.\n\nTo wrap everything up, I created a dataframe that only included neighborhoods that had their top venue category as \"Coffee Shop.\" Seven neighborhoods were returned with their most common venue as \"Coffee Shop. I then created a final dataframe with just those seven neighborhoods and their latitudes/longitudes, and created a map of Los Angeles with those neighborhoods superimposed on top so the stakeholders can visually see where these neighborhoods are located. \n"
        },
        {
            "cell_type": "markdown",
            "metadata": {},
            "source": "### Results"
        },
        {
            "cell_type": "markdown",
            "metadata": {},
            "source": "After completing this project, I found that there are seven neighborhoods in the Los Angeles area that have \"Coffee Shop\" as their most frequent venue type. The seven neighborhoods are: Los Feliz, Mid Wilshire, Palms, Porter Ranch, Silver Lake, Studio City and University Park.\n\nGiven the problem statement, these are the seven neighborhoods that I would recommend to young professionals to who work virtually, are looking to move to Los Angeles and enjoy working at coffee shops as a change of scenery from working from home. "
        },
        {
            "cell_type": "markdown",
            "metadata": {},
            "source": "### Discussion Section"
        },
        {
            "cell_type": "markdown",
            "metadata": {},
            "source": "There are many different variables to consider when selecting a neighborhood to move to. Although having an ample selection of coffee shops nearby may be a factor, most individuals will not base their decision on a neighborhood by the \"Coffee Shop\" variable alone. However, this may be a good place to begin to narrow down the list of possible neighborhoods, and then consider other factors (such as cost of living, crime rate, access to the outdoors, etc.) to make their final decision on a desirable neighborhood."
        },
        {
            "cell_type": "markdown",
            "metadata": {},
            "source": "### Conclusion"
        },
        {
            "cell_type": "markdown",
            "metadata": {},
            "source": "In conclusion, this project provides a possible list of neighborhoods for young professionals who work virtually and are looking to live in (or already live in) the Los Angeles area. Although having a large selection of coffee shops to work at is most likely not the sole determining factor in choosing which neighborhood to live in, this list provides a starting point in selecting a neighborhood. "
        }
    ],
    "metadata": {
        "kernelspec": {
            "display_name": "Python 3.7",
            "language": "python",
            "name": "python3"
        },
        "language_info": {
            "codemirror_mode": {
                "name": "ipython",
                "version": 3
            },
            "file_extension": ".py",
            "mimetype": "text/x-python",
            "name": "python",
            "nbconvert_exporter": "python",
            "pygments_lexer": "ipython3",
            "version": "3.7.9"
        }
    },
    "nbformat": 4,
    "nbformat_minor": 1
}