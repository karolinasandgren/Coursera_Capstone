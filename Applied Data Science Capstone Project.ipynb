{
    "cells": [
        {
            "cell_type": "markdown",
            "metadata": {
                "collapsed": true
            },
            "source": "# This is my final Capstone Project notebook for the Data Science Certificate "
        },
        {
            "cell_type": "code",
            "execution_count": 88,
            "metadata": {},
            "outputs": [
                {
                    "name": "stdout",
                    "output_type": "stream",
                    "text": "Hello Capstone Project Course!\n"
                }
            ],
            "source": "import pandas as pd\nimport numpy as np\nprint(\"Hello Capstone Project Course!\")"
        },
        {
            "cell_type": "markdown",
            "metadata": {},
            "source": "## Below you will find my code for the Segmenting and Clustering Neighborhoods in Toronto, Canada lab:"
        },
        {
            "cell_type": "code",
            "execution_count": 89,
            "metadata": {},
            "outputs": [
                {
                    "data": {
                        "text/html": "<div>\n<style scoped>\n    .dataframe tbody tr th:only-of-type {\n        vertical-align: middle;\n    }\n\n    .dataframe tbody tr th {\n        vertical-align: top;\n    }\n\n    .dataframe thead th {\n        text-align: right;\n    }\n</style>\n<table border=\"1\" class=\"dataframe\">\n  <thead>\n    <tr style=\"text-align: right;\">\n      <th></th>\n      <th>Postcode</th>\n      <th>Borough</th>\n      <th>Neighbourhood</th>\n    </tr>\n  </thead>\n  <tbody>\n    <tr>\n      <th>0</th>\n      <td>M1A</td>\n      <td>Not assigned</td>\n      <td>Not assigned</td>\n    </tr>\n    <tr>\n      <th>1</th>\n      <td>M2A</td>\n      <td>Not assigned</td>\n      <td>Not assigned</td>\n    </tr>\n    <tr>\n      <th>2</th>\n      <td>M3A</td>\n      <td>North York</td>\n      <td>Parkwoods</td>\n    </tr>\n    <tr>\n      <th>3</th>\n      <td>M4A</td>\n      <td>North York</td>\n      <td>Victoria Village</td>\n    </tr>\n    <tr>\n      <th>4</th>\n      <td>M5A</td>\n      <td>Downtown Toronto</td>\n      <td>Harbourfront</td>\n    </tr>\n    <tr>\n      <th>...</th>\n      <td>...</td>\n      <td>...</td>\n      <td>...</td>\n    </tr>\n    <tr>\n      <th>283</th>\n      <td>M8Z</td>\n      <td>Etobicoke</td>\n      <td>Mimico NW</td>\n    </tr>\n    <tr>\n      <th>284</th>\n      <td>M8Z</td>\n      <td>Etobicoke</td>\n      <td>The Queensway West</td>\n    </tr>\n    <tr>\n      <th>285</th>\n      <td>M8Z</td>\n      <td>Etobicoke</td>\n      <td>Royal York South West</td>\n    </tr>\n    <tr>\n      <th>286</th>\n      <td>M8Z</td>\n      <td>Etobicoke</td>\n      <td>South of Bloor</td>\n    </tr>\n    <tr>\n      <th>287</th>\n      <td>M9Z</td>\n      <td>Not assigned</td>\n      <td>Not assigned</td>\n    </tr>\n  </tbody>\n</table>\n<p>288 rows \u00d7 3 columns</p>\n</div>",
                        "text/plain": "    Postcode           Borough          Neighbourhood\n0        M1A      Not assigned           Not assigned\n1        M2A      Not assigned           Not assigned\n2        M3A        North York              Parkwoods\n3        M4A        North York       Victoria Village\n4        M5A  Downtown Toronto           Harbourfront\n..       ...               ...                    ...\n283      M8Z         Etobicoke              Mimico NW\n284      M8Z         Etobicoke     The Queensway West\n285      M8Z         Etobicoke  Royal York South West\n286      M8Z         Etobicoke         South of Bloor\n287      M9Z      Not assigned           Not assigned\n\n[288 rows x 3 columns]"
                    },
                    "execution_count": 89,
                    "metadata": {},
                    "output_type": "execute_result"
                }
            ],
            "source": "# import additional libraries needed for BeautifulSoup\nfrom bs4 import BeautifulSoup\nimport requests\n\nwiki_url = 'https://en.wikipedia.org/w/index.php?title=List_of_postal_codes_of_Canada:_M&direction=prev&oldid=926287641'\nreq = requests.get(wiki_url)\n\nsoup = BeautifulSoup(req.content,'lxml')\ntable = soup.find_all('table')[0]\ndf = pd.read_html(str(table))\ndf = pd.DataFrame(df[0])\ndf"
        },
        {
            "cell_type": "code",
            "execution_count": 90,
            "metadata": {},
            "outputs": [
                {
                    "data": {
                        "text/html": "<div>\n<style scoped>\n    .dataframe tbody tr th:only-of-type {\n        vertical-align: middle;\n    }\n\n    .dataframe tbody tr th {\n        vertical-align: top;\n    }\n\n    .dataframe thead th {\n        text-align: right;\n    }\n</style>\n<table border=\"1\" class=\"dataframe\">\n  <thead>\n    <tr style=\"text-align: right;\">\n      <th></th>\n      <th>Postcode</th>\n      <th>Borough</th>\n      <th>Neighbourhood</th>\n    </tr>\n  </thead>\n  <tbody>\n    <tr>\n      <th>2</th>\n      <td>M3A</td>\n      <td>North York</td>\n      <td>Parkwoods</td>\n    </tr>\n    <tr>\n      <th>3</th>\n      <td>M4A</td>\n      <td>North York</td>\n      <td>Victoria Village</td>\n    </tr>\n    <tr>\n      <th>4</th>\n      <td>M5A</td>\n      <td>Downtown Toronto</td>\n      <td>Harbourfront</td>\n    </tr>\n    <tr>\n      <th>5</th>\n      <td>M5A</td>\n      <td>Downtown Toronto</td>\n      <td>Regent Park</td>\n    </tr>\n    <tr>\n      <th>6</th>\n      <td>M6A</td>\n      <td>North York</td>\n      <td>Lawrence Heights</td>\n    </tr>\n    <tr>\n      <th>...</th>\n      <td>...</td>\n      <td>...</td>\n      <td>...</td>\n    </tr>\n    <tr>\n      <th>282</th>\n      <td>M8Z</td>\n      <td>Etobicoke</td>\n      <td>Kingsway Park South West</td>\n    </tr>\n    <tr>\n      <th>283</th>\n      <td>M8Z</td>\n      <td>Etobicoke</td>\n      <td>Mimico NW</td>\n    </tr>\n    <tr>\n      <th>284</th>\n      <td>M8Z</td>\n      <td>Etobicoke</td>\n      <td>The Queensway West</td>\n    </tr>\n    <tr>\n      <th>285</th>\n      <td>M8Z</td>\n      <td>Etobicoke</td>\n      <td>Royal York South West</td>\n    </tr>\n    <tr>\n      <th>286</th>\n      <td>M8Z</td>\n      <td>Etobicoke</td>\n      <td>South of Bloor</td>\n    </tr>\n  </tbody>\n</table>\n<p>211 rows \u00d7 3 columns</p>\n</div>",
                        "text/plain": "    Postcode           Borough             Neighbourhood\n2        M3A        North York                 Parkwoods\n3        M4A        North York          Victoria Village\n4        M5A  Downtown Toronto              Harbourfront\n5        M5A  Downtown Toronto               Regent Park\n6        M6A        North York          Lawrence Heights\n..       ...               ...                       ...\n282      M8Z         Etobicoke  Kingsway Park South West\n283      M8Z         Etobicoke                 Mimico NW\n284      M8Z         Etobicoke        The Queensway West\n285      M8Z         Etobicoke     Royal York South West\n286      M8Z         Etobicoke            South of Bloor\n\n[211 rows x 3 columns]"
                    },
                    "execution_count": 90,
                    "metadata": {},
                    "output_type": "execute_result"
                }
            ],
            "source": "#remove 'Not assigned' rows from Borough column:\ndf = df[df.Borough != 'Not assigned']\ndf"
        },
        {
            "cell_type": "code",
            "execution_count": 91,
            "metadata": {},
            "outputs": [
                {
                    "data": {
                        "text/html": "<div>\n<style scoped>\n    .dataframe tbody tr th:only-of-type {\n        vertical-align: middle;\n    }\n\n    .dataframe tbody tr th {\n        vertical-align: top;\n    }\n\n    .dataframe thead th {\n        text-align: right;\n    }\n</style>\n<table border=\"1\" class=\"dataframe\">\n  <thead>\n    <tr style=\"text-align: right;\">\n      <th></th>\n      <th></th>\n      <th>Neighbourhood</th>\n    </tr>\n    <tr>\n      <th>Postcode</th>\n      <th>Borough</th>\n      <th></th>\n    </tr>\n  </thead>\n  <tbody>\n    <tr>\n      <th>M3A</th>\n      <th>North York</th>\n      <td>Parkwoods</td>\n    </tr>\n    <tr>\n      <th>M4A</th>\n      <th>North York</th>\n      <td>Victoria Village</td>\n    </tr>\n    <tr>\n      <th>M5A</th>\n      <th>Downtown Toronto</th>\n      <td>Harbourfront,Regent Park</td>\n    </tr>\n    <tr>\n      <th>M6A</th>\n      <th>North York</th>\n      <td>Lawrence Heights,Lawrence Manor</td>\n    </tr>\n    <tr>\n      <th>M7A</th>\n      <th>Queen's Park</th>\n      <td>Not assigned</td>\n    </tr>\n    <tr>\n      <th>...</th>\n      <th>...</th>\n      <td>...</td>\n    </tr>\n    <tr>\n      <th>M8X</th>\n      <th>Etobicoke</th>\n      <td>The Kingsway,Montgomery Road,Old Mill North</td>\n    </tr>\n    <tr>\n      <th>M4Y</th>\n      <th>Downtown Toronto</th>\n      <td>Church and Wellesley</td>\n    </tr>\n    <tr>\n      <th>M7Y</th>\n      <th>East Toronto</th>\n      <td>Business Reply Mail Processing Centre 969 Eastern</td>\n    </tr>\n    <tr>\n      <th>M8Y</th>\n      <th>Etobicoke</th>\n      <td>Humber Bay,King's Mill Park,Kingsway Park Sout...</td>\n    </tr>\n    <tr>\n      <th>M8Z</th>\n      <th>Etobicoke</th>\n      <td>Kingsway Park South West,Mimico NW,The Queensw...</td>\n    </tr>\n  </tbody>\n</table>\n<p>103 rows \u00d7 1 columns</p>\n</div>",
                        "text/plain": "                                                               Neighbourhood\nPostcode Borough                                                            \nM3A      North York                                                Parkwoods\nM4A      North York                                         Victoria Village\nM5A      Downtown Toronto                           Harbourfront,Regent Park\nM6A      North York                          Lawrence Heights,Lawrence Manor\nM7A      Queen's Park                                           Not assigned\n...                                                                      ...\nM8X      Etobicoke               The Kingsway,Montgomery Road,Old Mill North\nM4Y      Downtown Toronto                               Church and Wellesley\nM7Y      East Toronto      Business Reply Mail Processing Centre 969 Eastern\nM8Y      Etobicoke         Humber Bay,King's Mill Park,Kingsway Park Sout...\nM8Z      Etobicoke         Kingsway Park South West,Mimico NW,The Queensw...\n\n[103 rows x 1 columns]"
                    },
                    "execution_count": 91,
                    "metadata": {},
                    "output_type": "execute_result"
                }
            ],
            "source": "#combine values with the same Postcode using groupby function:\ndf = df.groupby(['Postcode','Borough'],sort=False).agg(lambda x:','.join(x))\ndf "
        },
        {
            "cell_type": "code",
            "execution_count": 92,
            "metadata": {},
            "outputs": [
                {
                    "data": {
                        "text/plain": "<pandas.core.groupby.generic.DataFrameGroupBy object at 0x7fc992126e50>"
                    },
                    "execution_count": 92,
                    "metadata": {},
                    "output_type": "execute_result"
                }
            ],
            "source": "df = df.groupby(['Borough'])"
        },
        {
            "cell_type": "code",
            "execution_count": null,
            "metadata": {},
            "outputs": [],
            "source": ""
        }
    ],
    "metadata": {
        "kernelspec": {
            "display_name": "Python 3.7",
            "language": "python",
            "name": "python3"
        },
        "language_info": {
            "codemirror_mode": {
                "name": "ipython",
                "version": 3
            },
            "file_extension": ".py",
            "mimetype": "text/x-python",
            "name": "python",
            "nbconvert_exporter": "python",
            "pygments_lexer": "ipython3",
            "version": "3.7.9"
        }
    },
    "nbformat": 4,
    "nbformat_minor": 1
}