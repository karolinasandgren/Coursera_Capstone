{
    "cells": [
        {
            "cell_type": "markdown",
            "metadata": {
                "collapsed": true
            },
            "source": "# Prospective New York Neighborhoods"
        },
        {
            "cell_type": "markdown",
            "metadata": {},
            "source": "## This is my Final Capstone Project for the IBM Data Science Professional Certificate on Coursera"
        },
        {
            "cell_type": "markdown",
            "metadata": {},
            "source": "### Introduction/Business Problem:"
        },
        {
            "cell_type": "markdown",
            "metadata": {},
            "source": "#### Currently, there is an increase in virtual roles due to the pandemic (especially in tech), and some are predicting that the number of virtual roles will stay elevated post-pandemic for several reasons (reduced cost of overhead, added flexibility for employees, to name a couple). Because of this, young professionals may opt for neighborhoods that have venues to work from other than their own home, such as coffee shops, libraries, etc.\n#### For this project, my target audience is young professionals who are interested in moving to New York City. More specifically, I am targeting young professionals who work virtually, and are looking for neighborhoods that have various options for coffee shops to work from when they may need a change of scenery from working from home. "
        },
        {
            "cell_type": "markdown",
            "metadata": {},
            "source": "### Data"
        },
        {
            "cell_type": "markdown",
            "metadata": {},
            "source": "#### In order to determine neighborhoods in Manhattan that have \"coffee shops\" as one of their top venues, there are a couple different data sources that I will need to pull from to get neighborhood and venue data. \n#### The neighborhood data will consist of NY boroughs (of which I will filter out for just \"Manhattan\"), neighborhoods, and latitude/longitude of each neighborhood. I will extract this data from a free, online source (https://geo.nyu.edu/catalog/nyu_2451_34572) that was provided in one of the IBM labs.\n#### Once I have collected the neighborhood data, I will make calls to the Foursquare API to obtain data for nearby venues in Manhattan neighborhoods, analyze each neighborhood, and create a list with \"coffee shop\" as one of the top venues in the given neighborhood. \n#### Using this data, I will be able to recommend a list of prospective New York Neighborhoods for young, virtual professionals who are looking for neighborhoods with a variety of coffee shops to work from. \n"
        },
        {
            "cell_type": "code",
            "execution_count": null,
            "metadata": {},
            "outputs": [],
            "source": ""
        }
    ],
    "metadata": {
        "kernelspec": {
            "display_name": "Python 3.7",
            "language": "python",
            "name": "python3"
        },
        "language_info": {
            "codemirror_mode": {
                "name": "ipython",
                "version": 3
            },
            "file_extension": ".py",
            "mimetype": "text/x-python",
            "name": "python",
            "nbconvert_exporter": "python",
            "pygments_lexer": "ipython3",
            "version": "3.7.9"
        }
    },
    "nbformat": 4,
    "nbformat_minor": 1
}