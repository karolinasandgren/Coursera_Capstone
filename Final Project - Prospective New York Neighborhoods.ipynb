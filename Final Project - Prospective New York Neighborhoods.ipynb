{
    "cells": [
        {
            "cell_type": "markdown",
            "metadata": {
                "collapsed": true
            },
            "source": "# Prospective New York Neighborhoods"
        },
        {
            "cell_type": "markdown",
            "metadata": {},
            "source": "## This is my Final Capstone Project for the IBM Data Science Professional Certificate on Coursera"
        },
        {
            "cell_type": "markdown",
            "metadata": {},
            "source": "### Introduction/Business Problem:"
        },
        {
            "cell_type": "markdown",
            "metadata": {},
            "source": "#### Currently, there is an increase in virtual roles due to the pandemic (especially in tech), and some are predicting that the number of virtual roles will stay elevated post-pandemic for several reasons (reduced cost of overhead, added flexibility for employees, to name a couple). Because of this, young professionals may opt for neighborhoods that have venues to work from other than their own home, such as coffee shops, libraries, etc.\n#### For this project, my target audience is young professionals who are interested in moving to New York City. More specifically, I am targeting young professionals who work virtually, and are looking for neighborhoods that have various options for coffee shops to work from when they may need a change of scenery from working from home. "
        },
        {
            "cell_type": "code",
            "execution_count": null,
            "metadata": {},
            "outputs": [],
            "source": ""
        }
    ],
    "metadata": {
        "kernelspec": {
            "display_name": "Python 3.7",
            "language": "python",
            "name": "python3"
        },
        "language_info": {
            "codemirror_mode": {
                "name": "ipython",
                "version": 3
            },
            "file_extension": ".py",
            "mimetype": "text/x-python",
            "name": "python",
            "nbconvert_exporter": "python",
            "pygments_lexer": "ipython3",
            "version": "3.7.9"
        }
    },
    "nbformat": 4,
    "nbformat_minor": 1
}